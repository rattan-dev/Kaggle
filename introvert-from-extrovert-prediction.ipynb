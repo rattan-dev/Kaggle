{
 "cells": [
  {
   "cell_type": "markdown",
   "id": "a517117f",
   "metadata": {
    "papermill": {
     "duration": 0.004999,
     "end_time": "2025-07-29T14:13:03.346450",
     "exception": false,
     "start_time": "2025-07-29T14:13:03.341451",
     "status": "completed"
    },
    "tags": []
   },
   "source": [
    "# **Hello**\n",
    "\n",
    "****This is a beginner friendly intermediate level notebook ;)****\n",
    "\n",
    "****Please do comment and spread your knowledge. Enlighten me and others.****"
   ]
  },
  {
   "cell_type": "code",
   "execution_count": 1,
   "id": "68b5b2a0",
   "metadata": {
    "_cell_guid": "b1076dfc-b9ad-4769-8c92-a6c4dae69d19",
    "_uuid": "8f2839f25d086af736a60e9eeb907d3b93b6e0e5",
    "execution": {
     "iopub.execute_input": "2025-07-29T14:13:03.356466Z",
     "iopub.status.busy": "2025-07-29T14:13:03.356078Z",
     "iopub.status.idle": "2025-07-29T14:13:05.252928Z",
     "shell.execute_reply": "2025-07-29T14:13:05.251729Z"
    },
    "papermill": {
     "duration": 1.903793,
     "end_time": "2025-07-29T14:13:05.254570",
     "exception": false,
     "start_time": "2025-07-29T14:13:03.350777",
     "status": "completed"
    },
    "tags": []
   },
   "outputs": [
    {
     "name": "stdout",
     "output_type": "stream",
     "text": [
      "/kaggle/input/playground-series-s5e7/sample_submission.csv\n",
      "/kaggle/input/playground-series-s5e7/train.csv\n",
      "/kaggle/input/playground-series-s5e7/test.csv\n"
     ]
    }
   ],
   "source": [
    "# This Python 3 environment comes with many helpful analytics libraries installed\n",
    "# It is defined by the kaggle/python Docker image: https://github.com/kaggle/docker-python\n",
    "# For example, here's several helpful packages to load\n",
    "\n",
    "import numpy as np # linear algebra\n",
    "import pandas as pd # data processing, CSV file I/O (e.g. pd.read_csv)\n",
    "\n",
    "# Input data files are available in the read-only \"../input/\" directory\n",
    "# For example, running this (by clicking run or pressing Shift+Enter) will list all files under the input directory\n",
    "\n",
    "import os\n",
    "for dirname, _, filenames in os.walk('/kaggle/input'):\n",
    "    for filename in filenames:\n",
    "        print(os.path.join(dirname, filename))\n",
    "\n",
    "# You can write up to 20GB to the current directory (/kaggle/working/) that gets preserved as output when you create a version using \"Save & Run All\" \n",
    "# You can also write temporary files to /kaggle/temp/, but they won't be saved outside of the current session"
   ]
  },
  {
   "cell_type": "markdown",
   "id": "095ed0da",
   "metadata": {
    "papermill": {
     "duration": 0.004373,
     "end_time": "2025-07-29T14:13:05.263661",
     "exception": false,
     "start_time": "2025-07-29T14:13:05.259288",
     "status": "completed"
    },
    "tags": []
   },
   "source": [
    "****So here we start.****"
   ]
  },
  {
   "cell_type": "code",
   "execution_count": 2,
   "id": "4069f57b",
   "metadata": {
    "execution": {
     "iopub.execute_input": "2025-07-29T14:13:05.274078Z",
     "iopub.status.busy": "2025-07-29T14:13:05.273601Z",
     "iopub.status.idle": "2025-07-29T14:13:06.853822Z",
     "shell.execute_reply": "2025-07-29T14:13:06.852815Z"
    },
    "papermill": {
     "duration": 1.587529,
     "end_time": "2025-07-29T14:13:06.855456",
     "exception": false,
     "start_time": "2025-07-29T14:13:05.267927",
     "status": "completed"
    },
    "tags": []
   },
   "outputs": [],
   "source": [
    "#importing useful libraries\n",
    "import pandas as pd\n",
    "from sklearn.model_selection import train_test_split"
   ]
  },
  {
   "cell_type": "code",
   "execution_count": 3,
   "id": "d12dad81",
   "metadata": {
    "execution": {
     "iopub.execute_input": "2025-07-29T14:13:06.865537Z",
     "iopub.status.busy": "2025-07-29T14:13:06.865106Z",
     "iopub.status.idle": "2025-07-29T14:13:06.956779Z",
     "shell.execute_reply": "2025-07-29T14:13:06.955910Z"
    },
    "papermill": {
     "duration": 0.098388,
     "end_time": "2025-07-29T14:13:06.958267",
     "exception": false,
     "start_time": "2025-07-29T14:13:06.859879",
     "status": "completed"
    },
    "tags": []
   },
   "outputs": [
    {
     "name": "stderr",
     "output_type": "stream",
     "text": [
      "/usr/local/lib/python3.11/dist-packages/pandas/io/formats/format.py:1458: RuntimeWarning: invalid value encountered in greater\n",
      "  has_large_values = (abs_vals > 1e6).any()\n",
      "/usr/local/lib/python3.11/dist-packages/pandas/io/formats/format.py:1459: RuntimeWarning: invalid value encountered in less\n",
      "  has_small_values = ((abs_vals < 10 ** (-self.digits)) & (abs_vals > 0)).any()\n",
      "/usr/local/lib/python3.11/dist-packages/pandas/io/formats/format.py:1459: RuntimeWarning: invalid value encountered in greater\n",
      "  has_small_values = ((abs_vals < 10 ** (-self.digits)) & (abs_vals > 0)).any()\n"
     ]
    },
    {
     "data": {
      "text/html": [
       "<div>\n",
       "<style scoped>\n",
       "    .dataframe tbody tr th:only-of-type {\n",
       "        vertical-align: middle;\n",
       "    }\n",
       "\n",
       "    .dataframe tbody tr th {\n",
       "        vertical-align: top;\n",
       "    }\n",
       "\n",
       "    .dataframe thead th {\n",
       "        text-align: right;\n",
       "    }\n",
       "</style>\n",
       "<table border=\"1\" class=\"dataframe\">\n",
       "  <thead>\n",
       "    <tr style=\"text-align: right;\">\n",
       "      <th></th>\n",
       "      <th>id</th>\n",
       "      <th>Time_spent_Alone</th>\n",
       "      <th>Stage_fear</th>\n",
       "      <th>Social_event_attendance</th>\n",
       "      <th>Going_outside</th>\n",
       "      <th>Drained_after_socializing</th>\n",
       "      <th>Friends_circle_size</th>\n",
       "      <th>Post_frequency</th>\n",
       "      <th>Personality</th>\n",
       "    </tr>\n",
       "  </thead>\n",
       "  <tbody>\n",
       "    <tr>\n",
       "      <th>0</th>\n",
       "      <td>0</td>\n",
       "      <td>0.0</td>\n",
       "      <td>No</td>\n",
       "      <td>6.0</td>\n",
       "      <td>4.0</td>\n",
       "      <td>No</td>\n",
       "      <td>15.0</td>\n",
       "      <td>5.0</td>\n",
       "      <td>Extrovert</td>\n",
       "    </tr>\n",
       "    <tr>\n",
       "      <th>1</th>\n",
       "      <td>1</td>\n",
       "      <td>1.0</td>\n",
       "      <td>No</td>\n",
       "      <td>7.0</td>\n",
       "      <td>3.0</td>\n",
       "      <td>No</td>\n",
       "      <td>10.0</td>\n",
       "      <td>8.0</td>\n",
       "      <td>Extrovert</td>\n",
       "    </tr>\n",
       "    <tr>\n",
       "      <th>2</th>\n",
       "      <td>2</td>\n",
       "      <td>6.0</td>\n",
       "      <td>Yes</td>\n",
       "      <td>1.0</td>\n",
       "      <td>0.0</td>\n",
       "      <td>NaN</td>\n",
       "      <td>3.0</td>\n",
       "      <td>0.0</td>\n",
       "      <td>Introvert</td>\n",
       "    </tr>\n",
       "    <tr>\n",
       "      <th>3</th>\n",
       "      <td>3</td>\n",
       "      <td>3.0</td>\n",
       "      <td>No</td>\n",
       "      <td>7.0</td>\n",
       "      <td>3.0</td>\n",
       "      <td>No</td>\n",
       "      <td>11.0</td>\n",
       "      <td>5.0</td>\n",
       "      <td>Extrovert</td>\n",
       "    </tr>\n",
       "    <tr>\n",
       "      <th>4</th>\n",
       "      <td>4</td>\n",
       "      <td>1.0</td>\n",
       "      <td>No</td>\n",
       "      <td>4.0</td>\n",
       "      <td>4.0</td>\n",
       "      <td>No</td>\n",
       "      <td>13.0</td>\n",
       "      <td>NaN</td>\n",
       "      <td>Extrovert</td>\n",
       "    </tr>\n",
       "  </tbody>\n",
       "</table>\n",
       "</div>"
      ],
      "text/plain": [
       "   id  Time_spent_Alone Stage_fear  Social_event_attendance  Going_outside  \\\n",
       "0   0               0.0         No                      6.0            4.0   \n",
       "1   1               1.0         No                      7.0            3.0   \n",
       "2   2               6.0        Yes                      1.0            0.0   \n",
       "3   3               3.0         No                      7.0            3.0   \n",
       "4   4               1.0         No                      4.0            4.0   \n",
       "\n",
       "  Drained_after_socializing  Friends_circle_size  Post_frequency Personality  \n",
       "0                        No                 15.0             5.0   Extrovert  \n",
       "1                        No                 10.0             8.0   Extrovert  \n",
       "2                       NaN                  3.0             0.0   Introvert  \n",
       "3                        No                 11.0             5.0   Extrovert  \n",
       "4                        No                 13.0             NaN   Extrovert  "
      ]
     },
     "execution_count": 3,
     "metadata": {},
     "output_type": "execute_result"
    }
   ],
   "source": [
    "#Loading Datasets\n",
    "\n",
    "X_full = pd.read_csv('../input/playground-series-s5e7/train.csv')\n",
    "X_test = pd.read_csv('../input/playground-series-s5e7/test.csv')\n",
    "\n",
    "X_full.head()"
   ]
  },
  {
   "cell_type": "markdown",
   "id": "b0acba0b",
   "metadata": {
    "papermill": {
     "duration": 0.004198,
     "end_time": "2025-07-29T14:13:06.967146",
     "exception": false,
     "start_time": "2025-07-29T14:13:06.962948",
     "status": "completed"
    },
    "tags": []
   },
   "source": [
    "Some columns have categorical data and for now I don't have much expertize in dealing with categorical data, hence it is better to turn them into numerical ones."
   ]
  },
  {
   "cell_type": "code",
   "execution_count": 4,
   "id": "4773494e",
   "metadata": {
    "execution": {
     "iopub.execute_input": "2025-07-29T14:13:06.977243Z",
     "iopub.status.busy": "2025-07-29T14:13:06.976930Z",
     "iopub.status.idle": "2025-07-29T14:13:06.994552Z",
     "shell.execute_reply": "2025-07-29T14:13:06.993660Z"
    },
    "papermill": {
     "duration": 0.024687,
     "end_time": "2025-07-29T14:13:06.996210",
     "exception": false,
     "start_time": "2025-07-29T14:13:06.971523",
     "status": "completed"
    },
    "tags": []
   },
   "outputs": [],
   "source": [
    "#updating categorical data into binary terms\n",
    "\n",
    "def turn_to_numeric(Dataframe, column, string):\n",
    "    new = Dataframe[column] == string\n",
    "    new += 0\n",
    "    Dataframe[column] = new\n",
    "# 1 means Yes, 0 implies No\n",
    "turn_to_numeric(X_full, 'Stage_fear', 'Yes')\n",
    "turn_to_numeric(X_full, 'Drained_after_socializing', 'Yes')\n",
    "turn_to_numeric(X_test, 'Stage_fear', 'Yes')\n",
    "turn_to_numeric(X_test, 'Drained_after_socializing', 'Yes')\n",
    "\n",
    "# 1 means Exrovert and 0 refers to Introvert\n",
    "turn_to_numeric(X_full, 'Personality', 'Extrovert')"
   ]
  },
  {
   "cell_type": "markdown",
   "id": "d043a602",
   "metadata": {
    "papermill": {
     "duration": 0.005143,
     "end_time": "2025-07-29T14:13:07.006022",
     "exception": false,
     "start_time": "2025-07-29T14:13:07.000879",
     "status": "completed"
    },
    "tags": []
   },
   "source": [
    "Finally splitting the transformed data."
   ]
  },
  {
   "cell_type": "code",
   "execution_count": 5,
   "id": "3ec65bcd",
   "metadata": {
    "execution": {
     "iopub.execute_input": "2025-07-29T14:13:07.016656Z",
     "iopub.status.busy": "2025-07-29T14:13:07.016315Z",
     "iopub.status.idle": "2025-07-29T14:13:07.030131Z",
     "shell.execute_reply": "2025-07-29T14:13:07.029225Z"
    },
    "papermill": {
     "duration": 0.020994,
     "end_time": "2025-07-29T14:13:07.031694",
     "exception": false,
     "start_time": "2025-07-29T14:13:07.010700",
     "status": "completed"
    },
    "tags": []
   },
   "outputs": [],
   "source": [
    "X_full.head()\n",
    "y = X_full[\"Personality\"]\n",
    "X = X_full.drop([\"Personality\"], axis = 1)"
   ]
  },
  {
   "cell_type": "code",
   "execution_count": 6,
   "id": "c5bf2cc2",
   "metadata": {
    "execution": {
     "iopub.execute_input": "2025-07-29T14:13:07.042736Z",
     "iopub.status.busy": "2025-07-29T14:13:07.041783Z",
     "iopub.status.idle": "2025-07-29T14:13:07.051497Z",
     "shell.execute_reply": "2025-07-29T14:13:07.050631Z"
    },
    "papermill": {
     "duration": 0.016832,
     "end_time": "2025-07-29T14:13:07.053201",
     "exception": false,
     "start_time": "2025-07-29T14:13:07.036369",
     "status": "completed"
    },
    "tags": []
   },
   "outputs": [],
   "source": [
    "X_train, X_valid, y_train, y_valid = train_test_split(X, y, train_size=0.8, test_size=0.2,\n",
    "                                                      random_state=0)"
   ]
  },
  {
   "cell_type": "markdown",
   "id": "8b6f5e25",
   "metadata": {
    "papermill": {
     "duration": 0.004095,
     "end_time": "2025-07-29T14:13:07.061763",
     "exception": false,
     "start_time": "2025-07-29T14:13:07.057668",
     "status": "completed"
    },
    "tags": []
   },
   "source": [
    "Imputation for the NAN values.\n",
    "Since the test data also contains NAN values, it is not a good idea to drop that data.\n",
    "\n",
    "I will also check in some other version for putting 0 or something like that for NAN values. In that case, I will need to increase the weights of other values."
   ]
  },
  {
   "cell_type": "code",
   "execution_count": 7,
   "id": "836bf320",
   "metadata": {
    "execution": {
     "iopub.execute_input": "2025-07-29T14:13:07.071708Z",
     "iopub.status.busy": "2025-07-29T14:13:07.071393Z",
     "iopub.status.idle": "2025-07-29T14:13:07.308494Z",
     "shell.execute_reply": "2025-07-29T14:13:07.307749Z"
    },
    "papermill": {
     "duration": 0.243862,
     "end_time": "2025-07-29T14:13:07.310094",
     "exception": false,
     "start_time": "2025-07-29T14:13:07.066232",
     "status": "completed"
    },
    "tags": []
   },
   "outputs": [],
   "source": [
    "from sklearn.impute import SimpleImputer\n",
    "\n",
    "# Imputation\n",
    "my_imputer = SimpleImputer()\n",
    "imputed_X_train = pd.DataFrame(my_imputer.fit_transform(X_train))\n",
    "imputed_X_valid = pd.DataFrame(my_imputer.transform(X_valid))\n",
    "\n",
    "# Imputation removed column names; put them back\n",
    "imputed_X_train.columns = X_train.columns\n",
    "imputed_X_valid.columns = X_valid.columns"
   ]
  },
  {
   "cell_type": "code",
   "execution_count": 8,
   "id": "8887121b",
   "metadata": {
    "execution": {
     "iopub.execute_input": "2025-07-29T14:13:07.319945Z",
     "iopub.status.busy": "2025-07-29T14:13:07.319589Z",
     "iopub.status.idle": "2025-07-29T14:21:29.166656Z",
     "shell.execute_reply": "2025-07-29T14:21:29.165706Z"
    },
    "papermill": {
     "duration": 501.857815,
     "end_time": "2025-07-29T14:21:29.172285",
     "exception": false,
     "start_time": "2025-07-29T14:13:07.314470",
     "status": "completed"
    },
    "tags": []
   },
   "outputs": [
    {
     "data": {
      "text/html": [
       "<style>#sk-container-id-1 {color: black;background-color: white;}#sk-container-id-1 pre{padding: 0;}#sk-container-id-1 div.sk-toggleable {background-color: white;}#sk-container-id-1 label.sk-toggleable__label {cursor: pointer;display: block;width: 100%;margin-bottom: 0;padding: 0.3em;box-sizing: border-box;text-align: center;}#sk-container-id-1 label.sk-toggleable__label-arrow:before {content: \"▸\";float: left;margin-right: 0.25em;color: #696969;}#sk-container-id-1 label.sk-toggleable__label-arrow:hover:before {color: black;}#sk-container-id-1 div.sk-estimator:hover label.sk-toggleable__label-arrow:before {color: black;}#sk-container-id-1 div.sk-toggleable__content {max-height: 0;max-width: 0;overflow: hidden;text-align: left;background-color: #f0f8ff;}#sk-container-id-1 div.sk-toggleable__content pre {margin: 0.2em;color: black;border-radius: 0.25em;background-color: #f0f8ff;}#sk-container-id-1 input.sk-toggleable__control:checked~div.sk-toggleable__content {max-height: 200px;max-width: 100%;overflow: auto;}#sk-container-id-1 input.sk-toggleable__control:checked~label.sk-toggleable__label-arrow:before {content: \"▾\";}#sk-container-id-1 div.sk-estimator input.sk-toggleable__control:checked~label.sk-toggleable__label {background-color: #d4ebff;}#sk-container-id-1 div.sk-label input.sk-toggleable__control:checked~label.sk-toggleable__label {background-color: #d4ebff;}#sk-container-id-1 input.sk-hidden--visually {border: 0;clip: rect(1px 1px 1px 1px);clip: rect(1px, 1px, 1px, 1px);height: 1px;margin: -1px;overflow: hidden;padding: 0;position: absolute;width: 1px;}#sk-container-id-1 div.sk-estimator {font-family: monospace;background-color: #f0f8ff;border: 1px dotted black;border-radius: 0.25em;box-sizing: border-box;margin-bottom: 0.5em;}#sk-container-id-1 div.sk-estimator:hover {background-color: #d4ebff;}#sk-container-id-1 div.sk-parallel-item::after {content: \"\";width: 100%;border-bottom: 1px solid gray;flex-grow: 1;}#sk-container-id-1 div.sk-label:hover label.sk-toggleable__label {background-color: #d4ebff;}#sk-container-id-1 div.sk-serial::before {content: \"\";position: absolute;border-left: 1px solid gray;box-sizing: border-box;top: 0;bottom: 0;left: 50%;z-index: 0;}#sk-container-id-1 div.sk-serial {display: flex;flex-direction: column;align-items: center;background-color: white;padding-right: 0.2em;padding-left: 0.2em;position: relative;}#sk-container-id-1 div.sk-item {position: relative;z-index: 1;}#sk-container-id-1 div.sk-parallel {display: flex;align-items: stretch;justify-content: center;background-color: white;position: relative;}#sk-container-id-1 div.sk-item::before, #sk-container-id-1 div.sk-parallel-item::before {content: \"\";position: absolute;border-left: 1px solid gray;box-sizing: border-box;top: 0;bottom: 0;left: 50%;z-index: -1;}#sk-container-id-1 div.sk-parallel-item {display: flex;flex-direction: column;z-index: 1;position: relative;background-color: white;}#sk-container-id-1 div.sk-parallel-item:first-child::after {align-self: flex-end;width: 50%;}#sk-container-id-1 div.sk-parallel-item:last-child::after {align-self: flex-start;width: 50%;}#sk-container-id-1 div.sk-parallel-item:only-child::after {width: 0;}#sk-container-id-1 div.sk-dashed-wrapped {border: 1px dashed gray;margin: 0 0.4em 0.5em 0.4em;box-sizing: border-box;padding-bottom: 0.4em;background-color: white;}#sk-container-id-1 div.sk-label label {font-family: monospace;font-weight: bold;display: inline-block;line-height: 1.2em;}#sk-container-id-1 div.sk-label-container {text-align: center;}#sk-container-id-1 div.sk-container {/* jupyter's `normalize.less` sets `[hidden] { display: none; }` but bootstrap.min.css set `[hidden] { display: none !important; }` so we also need the `!important` here to be able to override the default hidden behavior on the sphinx rendered scikit-learn.org. See: https://github.com/scikit-learn/scikit-learn/issues/21755 */display: inline-block !important;position: relative;}#sk-container-id-1 div.sk-text-repr-fallback {display: none;}</style><div id=\"sk-container-id-1\" class=\"sk-top-container\"><div class=\"sk-text-repr-fallback\"><pre>RandomForestRegressor(criterion=&#x27;absolute_error&#x27;, random_state=0)</pre><b>In a Jupyter environment, please rerun this cell to show the HTML representation or trust the notebook. <br />On GitHub, the HTML representation is unable to render, please try loading this page with nbviewer.org.</b></div><div class=\"sk-container\" hidden><div class=\"sk-item\"><div class=\"sk-estimator sk-toggleable\"><input class=\"sk-toggleable__control sk-hidden--visually\" id=\"sk-estimator-id-1\" type=\"checkbox\" checked><label for=\"sk-estimator-id-1\" class=\"sk-toggleable__label sk-toggleable__label-arrow\">RandomForestRegressor</label><div class=\"sk-toggleable__content\"><pre>RandomForestRegressor(criterion=&#x27;absolute_error&#x27;, random_state=0)</pre></div></div></div></div></div>"
      ],
      "text/plain": [
       "RandomForestRegressor(criterion='absolute_error', random_state=0)"
      ]
     },
     "execution_count": 8,
     "metadata": {},
     "output_type": "execute_result"
    }
   ],
   "source": [
    "#model creation\n",
    "from sklearn.ensemble import RandomForestRegressor\n",
    "model = RandomForestRegressor(criterion='absolute_error',random_state = 0)\n",
    "model.fit(imputed_X_train, y_train)"
   ]
  },
  {
   "cell_type": "markdown",
   "id": "b8619b89",
   "metadata": {
    "papermill": {
     "duration": 0.00426,
     "end_time": "2025-07-29T14:21:29.181178",
     "exception": false,
     "start_time": "2025-07-29T14:21:29.176918",
     "status": "completed"
    },
    "tags": []
   },
   "source": [
    "Model is created, let's now test it."
   ]
  },
  {
   "cell_type": "code",
   "execution_count": 9,
   "id": "12a52383",
   "metadata": {
    "execution": {
     "iopub.execute_input": "2025-07-29T14:21:29.191985Z",
     "iopub.status.busy": "2025-07-29T14:21:29.191242Z",
     "iopub.status.idle": "2025-07-29T14:21:29.288292Z",
     "shell.execute_reply": "2025-07-29T14:21:29.287412Z"
    },
    "papermill": {
     "duration": 0.104043,
     "end_time": "2025-07-29T14:21:29.289747",
     "exception": false,
     "start_time": "2025-07-29T14:21:29.185704",
     "status": "completed"
    },
    "tags": []
   },
   "outputs": [
    {
     "data": {
      "text/plain": [
       "array([0., 1., 1., ..., 0., 0., 1.])"
      ]
     },
     "execution_count": 9,
     "metadata": {},
     "output_type": "execute_result"
    }
   ],
   "source": [
    "test_pred = model.predict(imputed_X_valid)\n",
    "for i in range(len(test_pred)):\n",
    "    test_pred[i] = 1 if test_pred[i]>=0.5 else 0\n",
    "test_pred"
   ]
  },
  {
   "cell_type": "markdown",
   "id": "f317d801",
   "metadata": {
    "papermill": {
     "duration": 0.004467,
     "end_time": "2025-07-29T14:21:29.298995",
     "exception": false,
     "start_time": "2025-07-29T14:21:29.294528",
     "status": "completed"
    },
    "tags": []
   },
   "source": [
    "Our model made really nice predictions, but they were all values ranging from 0 to 1. While we just wanted only two values that are 0 and 1. So we converted those having value 0.5 and above to 1."
   ]
  },
  {
   "cell_type": "markdown",
   "id": "fc12b10e",
   "metadata": {
    "papermill": {
     "duration": 0.004347,
     "end_time": "2025-07-29T14:21:29.307984",
     "exception": false,
     "start_time": "2025-07-29T14:21:29.303637",
     "status": "completed"
    },
    "tags": []
   },
   "source": [
    "Nice!! But we will require some thing to measure if our model really worked well"
   ]
  },
  {
   "cell_type": "code",
   "execution_count": 10,
   "id": "8f0e1dc0",
   "metadata": {
    "execution": {
     "iopub.execute_input": "2025-07-29T14:21:29.318225Z",
     "iopub.status.busy": "2025-07-29T14:21:29.317919Z",
     "iopub.status.idle": "2025-07-29T14:21:29.324531Z",
     "shell.execute_reply": "2025-07-29T14:21:29.323663Z"
    },
    "papermill": {
     "duration": 0.013653,
     "end_time": "2025-07-29T14:21:29.326094",
     "exception": false,
     "start_time": "2025-07-29T14:21:29.312441",
     "status": "completed"
    },
    "tags": []
   },
   "outputs": [
    {
     "data": {
      "text/plain": [
       "0.030229419703103912"
      ]
     },
     "execution_count": 10,
     "metadata": {},
     "output_type": "execute_result"
    }
   ],
   "source": [
    "from sklearn.metrics import mean_absolute_error\n",
    "\n",
    "mean_absolute_error(y_valid, test_pred)"
   ]
  },
  {
   "cell_type": "markdown",
   "id": "46666862",
   "metadata": {
    "papermill": {
     "duration": 0.004586,
     "end_time": "2025-07-29T14:21:29.336717",
     "exception": false,
     "start_time": "2025-07-29T14:21:29.332131",
     "status": "completed"
    },
    "tags": []
   },
   "source": [
    "Great!!! Now let's make our model work on real test data."
   ]
  },
  {
   "cell_type": "code",
   "execution_count": 11,
   "id": "1f00eebd",
   "metadata": {
    "execution": {
     "iopub.execute_input": "2025-07-29T14:21:29.347626Z",
     "iopub.status.busy": "2025-07-29T14:21:29.347290Z",
     "iopub.status.idle": "2025-07-29T14:21:29.363840Z",
     "shell.execute_reply": "2025-07-29T14:21:29.362957Z"
    },
    "papermill": {
     "duration": 0.023846,
     "end_time": "2025-07-29T14:21:29.365302",
     "exception": false,
     "start_time": "2025-07-29T14:21:29.341456",
     "status": "completed"
    },
    "tags": []
   },
   "outputs": [
    {
     "name": "stderr",
     "output_type": "stream",
     "text": [
      "/usr/local/lib/python3.11/dist-packages/pandas/io/formats/format.py:1458: RuntimeWarning: invalid value encountered in greater\n",
      "  has_large_values = (abs_vals > 1e6).any()\n",
      "/usr/local/lib/python3.11/dist-packages/pandas/io/formats/format.py:1459: RuntimeWarning: invalid value encountered in less\n",
      "  has_small_values = ((abs_vals < 10 ** (-self.digits)) & (abs_vals > 0)).any()\n",
      "/usr/local/lib/python3.11/dist-packages/pandas/io/formats/format.py:1459: RuntimeWarning: invalid value encountered in greater\n",
      "  has_small_values = ((abs_vals < 10 ** (-self.digits)) & (abs_vals > 0)).any()\n"
     ]
    },
    {
     "data": {
      "text/html": [
       "<div>\n",
       "<style scoped>\n",
       "    .dataframe tbody tr th:only-of-type {\n",
       "        vertical-align: middle;\n",
       "    }\n",
       "\n",
       "    .dataframe tbody tr th {\n",
       "        vertical-align: top;\n",
       "    }\n",
       "\n",
       "    .dataframe thead th {\n",
       "        text-align: right;\n",
       "    }\n",
       "</style>\n",
       "<table border=\"1\" class=\"dataframe\">\n",
       "  <thead>\n",
       "    <tr style=\"text-align: right;\">\n",
       "      <th></th>\n",
       "      <th>id</th>\n",
       "      <th>Time_spent_Alone</th>\n",
       "      <th>Stage_fear</th>\n",
       "      <th>Social_event_attendance</th>\n",
       "      <th>Going_outside</th>\n",
       "      <th>Drained_after_socializing</th>\n",
       "      <th>Friends_circle_size</th>\n",
       "      <th>Post_frequency</th>\n",
       "    </tr>\n",
       "  </thead>\n",
       "  <tbody>\n",
       "    <tr>\n",
       "      <th>0</th>\n",
       "      <td>18524</td>\n",
       "      <td>3.0</td>\n",
       "      <td>0</td>\n",
       "      <td>7.0</td>\n",
       "      <td>4.0</td>\n",
       "      <td>0</td>\n",
       "      <td>6.0</td>\n",
       "      <td>NaN</td>\n",
       "    </tr>\n",
       "    <tr>\n",
       "      <th>1</th>\n",
       "      <td>18525</td>\n",
       "      <td>NaN</td>\n",
       "      <td>1</td>\n",
       "      <td>0.0</td>\n",
       "      <td>0.0</td>\n",
       "      <td>1</td>\n",
       "      <td>5.0</td>\n",
       "      <td>1.0</td>\n",
       "    </tr>\n",
       "    <tr>\n",
       "      <th>2</th>\n",
       "      <td>18526</td>\n",
       "      <td>3.0</td>\n",
       "      <td>0</td>\n",
       "      <td>5.0</td>\n",
       "      <td>6.0</td>\n",
       "      <td>0</td>\n",
       "      <td>15.0</td>\n",
       "      <td>9.0</td>\n",
       "    </tr>\n",
       "    <tr>\n",
       "      <th>3</th>\n",
       "      <td>18527</td>\n",
       "      <td>3.0</td>\n",
       "      <td>0</td>\n",
       "      <td>4.0</td>\n",
       "      <td>4.0</td>\n",
       "      <td>0</td>\n",
       "      <td>5.0</td>\n",
       "      <td>6.0</td>\n",
       "    </tr>\n",
       "    <tr>\n",
       "      <th>4</th>\n",
       "      <td>18528</td>\n",
       "      <td>9.0</td>\n",
       "      <td>1</td>\n",
       "      <td>1.0</td>\n",
       "      <td>2.0</td>\n",
       "      <td>1</td>\n",
       "      <td>1.0</td>\n",
       "      <td>1.0</td>\n",
       "    </tr>\n",
       "    <tr>\n",
       "      <th>...</th>\n",
       "      <td>...</td>\n",
       "      <td>...</td>\n",
       "      <td>...</td>\n",
       "      <td>...</td>\n",
       "      <td>...</td>\n",
       "      <td>...</td>\n",
       "      <td>...</td>\n",
       "      <td>...</td>\n",
       "    </tr>\n",
       "    <tr>\n",
       "      <th>6170</th>\n",
       "      <td>24694</td>\n",
       "      <td>3.0</td>\n",
       "      <td>0</td>\n",
       "      <td>5.0</td>\n",
       "      <td>5.0</td>\n",
       "      <td>0</td>\n",
       "      <td>9.0</td>\n",
       "      <td>6.0</td>\n",
       "    </tr>\n",
       "    <tr>\n",
       "      <th>6171</th>\n",
       "      <td>24695</td>\n",
       "      <td>8.0</td>\n",
       "      <td>1</td>\n",
       "      <td>2.0</td>\n",
       "      <td>1.0</td>\n",
       "      <td>1</td>\n",
       "      <td>0.0</td>\n",
       "      <td>0.0</td>\n",
       "    </tr>\n",
       "    <tr>\n",
       "      <th>6172</th>\n",
       "      <td>24696</td>\n",
       "      <td>2.0</td>\n",
       "      <td>0</td>\n",
       "      <td>4.0</td>\n",
       "      <td>3.0</td>\n",
       "      <td>0</td>\n",
       "      <td>9.0</td>\n",
       "      <td>7.0</td>\n",
       "    </tr>\n",
       "    <tr>\n",
       "      <th>6173</th>\n",
       "      <td>24697</td>\n",
       "      <td>3.0</td>\n",
       "      <td>0</td>\n",
       "      <td>4.0</td>\n",
       "      <td>4.0</td>\n",
       "      <td>0</td>\n",
       "      <td>11.0</td>\n",
       "      <td>9.0</td>\n",
       "    </tr>\n",
       "    <tr>\n",
       "      <th>6174</th>\n",
       "      <td>24698</td>\n",
       "      <td>NaN</td>\n",
       "      <td>1</td>\n",
       "      <td>1.0</td>\n",
       "      <td>1.0</td>\n",
       "      <td>1</td>\n",
       "      <td>1.0</td>\n",
       "      <td>0.0</td>\n",
       "    </tr>\n",
       "  </tbody>\n",
       "</table>\n",
       "<p>6175 rows × 8 columns</p>\n",
       "</div>"
      ],
      "text/plain": [
       "         id  Time_spent_Alone  Stage_fear  Social_event_attendance  \\\n",
       "0     18524               3.0           0                      7.0   \n",
       "1     18525               NaN           1                      0.0   \n",
       "2     18526               3.0           0                      5.0   \n",
       "3     18527               3.0           0                      4.0   \n",
       "4     18528               9.0           1                      1.0   \n",
       "...     ...               ...         ...                      ...   \n",
       "6170  24694               3.0           0                      5.0   \n",
       "6171  24695               8.0           1                      2.0   \n",
       "6172  24696               2.0           0                      4.0   \n",
       "6173  24697               3.0           0                      4.0   \n",
       "6174  24698               NaN           1                      1.0   \n",
       "\n",
       "      Going_outside  Drained_after_socializing  Friends_circle_size  \\\n",
       "0               4.0                          0                  6.0   \n",
       "1               0.0                          1                  5.0   \n",
       "2               6.0                          0                 15.0   \n",
       "3               4.0                          0                  5.0   \n",
       "4               2.0                          1                  1.0   \n",
       "...             ...                        ...                  ...   \n",
       "6170            5.0                          0                  9.0   \n",
       "6171            1.0                          1                  0.0   \n",
       "6172            3.0                          0                  9.0   \n",
       "6173            4.0                          0                 11.0   \n",
       "6174            1.0                          1                  1.0   \n",
       "\n",
       "      Post_frequency  \n",
       "0                NaN  \n",
       "1                1.0  \n",
       "2                9.0  \n",
       "3                6.0  \n",
       "4                1.0  \n",
       "...              ...  \n",
       "6170             6.0  \n",
       "6171             0.0  \n",
       "6172             7.0  \n",
       "6173             9.0  \n",
       "6174             0.0  \n",
       "\n",
       "[6175 rows x 8 columns]"
      ]
     },
     "execution_count": 11,
     "metadata": {},
     "output_type": "execute_result"
    }
   ],
   "source": [
    "X_test"
   ]
  },
  {
   "cell_type": "markdown",
   "id": "7460d738",
   "metadata": {
    "papermill": {
     "duration": 0.004819,
     "end_time": "2025-07-29T14:21:29.375520",
     "exception": false,
     "start_time": "2025-07-29T14:21:29.370701",
     "status": "completed"
    },
    "tags": []
   },
   "source": [
    "The test data has some missing values, so let's impute them."
   ]
  },
  {
   "cell_type": "code",
   "execution_count": 12,
   "id": "fa0a00af",
   "metadata": {
    "execution": {
     "iopub.execute_input": "2025-07-29T14:21:29.386861Z",
     "iopub.status.busy": "2025-07-29T14:21:29.386537Z",
     "iopub.status.idle": "2025-07-29T14:21:29.513707Z",
     "shell.execute_reply": "2025-07-29T14:21:29.512853Z"
    },
    "papermill": {
     "duration": 0.134591,
     "end_time": "2025-07-29T14:21:29.515219",
     "exception": false,
     "start_time": "2025-07-29T14:21:29.380628",
     "status": "completed"
    },
    "tags": []
   },
   "outputs": [
    {
     "data": {
      "text/plain": [
       "array([0.96, 0.17, 0.95, ..., 0.92, 0.98, 0.02])"
      ]
     },
     "execution_count": 12,
     "metadata": {},
     "output_type": "execute_result"
    }
   ],
   "source": [
    "imputed_X_test = pd.DataFrame(my_imputer.fit_transform(X_test))\n",
    "imputed_X_test.columns = X_test.columns\n",
    "final_prediction = model.predict(imputed_X_test)\n",
    "\n",
    "final_prediction"
   ]
  },
  {
   "cell_type": "markdown",
   "id": "4c75a784",
   "metadata": {
    "papermill": {
     "duration": 0.004987,
     "end_time": "2025-07-29T14:21:29.525837",
     "exception": false,
     "start_time": "2025-07-29T14:21:29.520850",
     "status": "completed"
    },
    "tags": []
   },
   "source": [
    "Final Predictions are made, now let's convert it into the asked format."
   ]
  },
  {
   "cell_type": "code",
   "execution_count": 13,
   "id": "d4a7bf04",
   "metadata": {
    "execution": {
     "iopub.execute_input": "2025-07-29T14:21:29.537294Z",
     "iopub.status.busy": "2025-07-29T14:21:29.536977Z",
     "iopub.status.idle": "2025-07-29T14:21:29.557207Z",
     "shell.execute_reply": "2025-07-29T14:21:29.556365Z"
    },
    "papermill": {
     "duration": 0.027967,
     "end_time": "2025-07-29T14:21:29.558915",
     "exception": false,
     "start_time": "2025-07-29T14:21:29.530948",
     "status": "completed"
    },
    "tags": []
   },
   "outputs": [],
   "source": [
    "list = []\n",
    "for i in range(len(final_prediction)):\n",
    "    if final_prediction[i]>=0.5:\n",
    "        list.append(\"Extrovert\")\n",
    "    else :\n",
    "        list.append(\"Introvert\")\n",
    "\n",
    "output = pd.DataFrame({'id': X_test.id,\n",
    "                       'Personality': list})\n",
    "output.to_csv('submission.csv', index=False)"
   ]
  },
  {
   "cell_type": "markdown",
   "id": "305323a0",
   "metadata": {
    "papermill": {
     "duration": 0.004973,
     "end_time": "2025-07-29T14:21:29.569351",
     "exception": false,
     "start_time": "2025-07-29T14:21:29.564378",
     "status": "completed"
    },
    "tags": []
   },
   "source": [
    "Awesome!! That's it, just one more line of code. (To see how our output looks like."
   ]
  },
  {
   "cell_type": "code",
   "execution_count": 14,
   "id": "2913057b",
   "metadata": {
    "execution": {
     "iopub.execute_input": "2025-07-29T14:21:29.580660Z",
     "iopub.status.busy": "2025-07-29T14:21:29.580390Z",
     "iopub.status.idle": "2025-07-29T14:21:29.589658Z",
     "shell.execute_reply": "2025-07-29T14:21:29.588794Z"
    },
    "papermill": {
     "duration": 0.016626,
     "end_time": "2025-07-29T14:21:29.591109",
     "exception": false,
     "start_time": "2025-07-29T14:21:29.574483",
     "status": "completed"
    },
    "tags": []
   },
   "outputs": [
    {
     "data": {
      "text/html": [
       "<div>\n",
       "<style scoped>\n",
       "    .dataframe tbody tr th:only-of-type {\n",
       "        vertical-align: middle;\n",
       "    }\n",
       "\n",
       "    .dataframe tbody tr th {\n",
       "        vertical-align: top;\n",
       "    }\n",
       "\n",
       "    .dataframe thead th {\n",
       "        text-align: right;\n",
       "    }\n",
       "</style>\n",
       "<table border=\"1\" class=\"dataframe\">\n",
       "  <thead>\n",
       "    <tr style=\"text-align: right;\">\n",
       "      <th></th>\n",
       "      <th>id</th>\n",
       "      <th>Personality</th>\n",
       "    </tr>\n",
       "  </thead>\n",
       "  <tbody>\n",
       "    <tr>\n",
       "      <th>0</th>\n",
       "      <td>18524</td>\n",
       "      <td>Extrovert</td>\n",
       "    </tr>\n",
       "    <tr>\n",
       "      <th>1</th>\n",
       "      <td>18525</td>\n",
       "      <td>Introvert</td>\n",
       "    </tr>\n",
       "    <tr>\n",
       "      <th>2</th>\n",
       "      <td>18526</td>\n",
       "      <td>Extrovert</td>\n",
       "    </tr>\n",
       "    <tr>\n",
       "      <th>3</th>\n",
       "      <td>18527</td>\n",
       "      <td>Extrovert</td>\n",
       "    </tr>\n",
       "    <tr>\n",
       "      <th>4</th>\n",
       "      <td>18528</td>\n",
       "      <td>Introvert</td>\n",
       "    </tr>\n",
       "    <tr>\n",
       "      <th>...</th>\n",
       "      <td>...</td>\n",
       "      <td>...</td>\n",
       "    </tr>\n",
       "    <tr>\n",
       "      <th>6170</th>\n",
       "      <td>24694</td>\n",
       "      <td>Extrovert</td>\n",
       "    </tr>\n",
       "    <tr>\n",
       "      <th>6171</th>\n",
       "      <td>24695</td>\n",
       "      <td>Introvert</td>\n",
       "    </tr>\n",
       "    <tr>\n",
       "      <th>6172</th>\n",
       "      <td>24696</td>\n",
       "      <td>Extrovert</td>\n",
       "    </tr>\n",
       "    <tr>\n",
       "      <th>6173</th>\n",
       "      <td>24697</td>\n",
       "      <td>Extrovert</td>\n",
       "    </tr>\n",
       "    <tr>\n",
       "      <th>6174</th>\n",
       "      <td>24698</td>\n",
       "      <td>Introvert</td>\n",
       "    </tr>\n",
       "  </tbody>\n",
       "</table>\n",
       "<p>6175 rows × 2 columns</p>\n",
       "</div>"
      ],
      "text/plain": [
       "         id Personality\n",
       "0     18524   Extrovert\n",
       "1     18525   Introvert\n",
       "2     18526   Extrovert\n",
       "3     18527   Extrovert\n",
       "4     18528   Introvert\n",
       "...     ...         ...\n",
       "6170  24694   Extrovert\n",
       "6171  24695   Introvert\n",
       "6172  24696   Extrovert\n",
       "6173  24697   Extrovert\n",
       "6174  24698   Introvert\n",
       "\n",
       "[6175 rows x 2 columns]"
      ]
     },
     "execution_count": 14,
     "metadata": {},
     "output_type": "execute_result"
    }
   ],
   "source": [
    "output"
   ]
  }
 ],
 "metadata": {
  "kaggle": {
   "accelerator": "none",
   "dataSources": [
    {
     "databundleVersionId": 12738969,
     "sourceId": 91718,
     "sourceType": "competition"
    }
   ],
   "dockerImageVersionId": 31089,
   "isGpuEnabled": false,
   "isInternetEnabled": true,
   "language": "python",
   "sourceType": "notebook"
  },
  "kernelspec": {
   "display_name": "Python 3",
   "language": "python",
   "name": "python3"
  },
  "language_info": {
   "codemirror_mode": {
    "name": "ipython",
    "version": 3
   },
   "file_extension": ".py",
   "mimetype": "text/x-python",
   "name": "python",
   "nbconvert_exporter": "python",
   "pygments_lexer": "ipython3",
   "version": "3.11.13"
  },
  "papermill": {
   "default_parameters": {},
   "duration": 511.811021,
   "end_time": "2025-07-29T14:21:30.317944",
   "environment_variables": {},
   "exception": null,
   "input_path": "__notebook__.ipynb",
   "output_path": "__notebook__.ipynb",
   "parameters": {},
   "start_time": "2025-07-29T14:12:58.506923",
   "version": "2.6.0"
  }
 },
 "nbformat": 4,
 "nbformat_minor": 5
}
